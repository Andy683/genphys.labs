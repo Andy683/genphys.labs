{
 "cells": [
  {
   "cell_type": "markdown",
   "metadata": {},
   "source": [
    "** Pavel Smirnov @ github.com/pysmirnov **"
   ]
  },
  {
   "cell_type": "markdown",
   "metadata": {},
   "source": [
    "That's how we are to calculate resonator's characteristics:"
   ]
  },
  {
   "cell_type": "code",
   "execution_count": 3,
   "metadata": {
    "collapsed": true
   },
   "outputs": [],
   "source": [
    "# scale factors\n",
    "def freq_m(freq):\n",
    "    freq *= 1e3; return freq;\n",
    "def cap_m(cap):\n",
    "    cap /= 1e9; return cap;\n",
    "\n",
    "def inductance(freq,cap):\n",
    "    return 1/(freq_m(freq)**2 * cap_m(cap))\n",
    "\n",
    "def quality_factor(freq,cap,res):\n",
    "    return 1/(freq_m(freq) * cap_m(cap) * res)\n",
    "\n",
    "def reactive_res(freq,cap):\n",
    "    return 1/(freq_m(freq)*cap_m(cap))\n",
    "\n",
    "def resistance_ind(rho,q):\n",
    "    return rho/q\n",
    "                                         \n",
    "def resistance_smax(rho):\n",
    "    return rho*1e-3 # tan(1e-3) \\approx 1e-3, yeah\n",
    "                                         \n",
    "def current(e_voltage,res_s):\n",
    "    return e_voltage/res_s\n",
    "\n",
    "def resistance_sum(r,r_s,r_l):\n",
    "    return r+r_s+r_l\n",
    "    #return (ind/cap_m(cap)*res_l) * sqrt( 1 + (res_l/(freq_m(freq)*ind)**2 ))"
   ]
  },
  {
   "cell_type": "markdown",
   "metadata": {},
   "source": [
    "And now gonna check out what's going on in our circuit..."
   ]
  },
  {
   "cell_type": "code",
   "execution_count": 14,
   "metadata": {},
   "outputs": [],
   "source": [
    "import numpy as np\n",
    "from math import pi\n",
    "data = np.loadtxt('data_exp.tsv', delimiter='\\t')\n",
    "\n",
    "R_L = []\n",
    "L = []\n",
    "\n",
    "out = open(\"data.tsv\",'w')\n",
    "for n in range(7):\n",
    "    cap = data[n][0]\n",
    "    freq = data[n][1]*2*math.pi\n",
    "    u = data[n][2]\n",
    "    e = data[n][3]\n",
    "    r = 3.5 # Ohm\n",
    "    \n",
    "    ind = inductance(freq,cap)\n",
    "    q = quality_factor(freq,cap,r)\n",
    "    rho = reactive_res(freq,cap)\n",
    "    r_s = resistance_smax(rho)\n",
    "    r_l = resistance_ind(rho,q)\n",
    "    r_sum = resistance_sum(r,r_s,r_l)\n",
    "    i = current(e,r_s)\n",
    "    \n",
    "    R_L.append(r_l)\n",
    "    L.append(ind)\n",
    "    \n",
    "    out.write(str(n+1)+'\\t')\n",
    "    for i in range(4):\n",
    "        out.write(str(data[n][i])+'\\t')\n",
    "    # weird printf-like syntax...\n",
    "    out.write(\"%0.2f\\t%0.2f\\t%0.2f\\t%0.2f\\t%0.2f\\t%0.2f\\t%0.2f\\n\" % (ind*1e6,q,rho,r_sum,r_s,r_l,i*1e3))\n",
    "    \n",
    "out.write(\"R_L = \"+str(np.average(R_L))+' Ом'+'\\n')\n",
    "out.write(\"L = \"+str(np.average(L)*1e6)+' мкГн'+'\\n')\n",
    "    \n",
    "out.close()"
   ]
  },
  {
   "cell_type": "code",
   "execution_count": null,
   "metadata": {
    "collapsed": true
   },
   "outputs": [],
   "source": []
  }
 ],
 "metadata": {
  "kernelspec": {
   "display_name": "Python 3",
   "language": "python",
   "name": "python3"
  },
  "language_info": {
   "codemirror_mode": {
    "name": "ipython",
    "version": 3
   },
   "file_extension": ".py",
   "mimetype": "text/x-python",
   "name": "python",
   "nbconvert_exporter": "python",
   "pygments_lexer": "ipython3",
   "version": "3.6.3"
  }
 },
 "nbformat": 4,
 "nbformat_minor": 2
}
